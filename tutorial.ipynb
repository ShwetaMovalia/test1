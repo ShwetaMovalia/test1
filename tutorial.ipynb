{
 "cells": [
  {
   "cell_type": "code",
   "execution_count": 1,
   "metadata": {},
   "outputs": [],
   "source": [
    "import numpy as np\n",
    "from scipy.ndimage.interpolation import shift\n",
    "import pandas as pd\n",
    "from matplotlib import pyplot as plt\n",
    "import seaborn as sns\n",
    "import matplotlib.pyplot as plt\n",
    "from ipywidgets import FloatSlider\n",
    "from ipywidgets import IntSlider\n",
    "from ipywidgets import interact\n",
    "import ipywidgets as widgets\n",
    "import nbinteract as nbi\n",
    "from ipywidgets import HBox, Label"
   ]
  },
  {
   "cell_type": "code",
   "execution_count": 3,
   "metadata": {},
   "outputs": [
    {
     "name": "stdout",
     "output_type": "stream",
     "text": [
      "Total number of vehicles 49131\n"
     ]
    },
    {
     "data": {
      "text/plain": [
       "Text(0, 0.5, 'Stock of vehicles')"
      ]
     },
     "execution_count": 3,
     "metadata": {},
     "output_type": "execute_result"
    },
    {
     "data": {
      "image/png": "[encoded data removed]",
      "text/plain": [
       "<Figure size 432x288 with 1 Axes>"
      ]
     },
     "metadata": {
      "needs_background": "light"
     },
     "output_type": "display_data"
    }
   ],
   "source": [
    "df = pd.read_excel(\"Turnover logic spreadsheet.xlsx\",sheet_name = ['Python_input_data'])\n",
    "df.keys()\n",
    "vintage = np.array(df['Python_input_data'].Vintage)\n",
    "survival = np.array(df['Python_input_data'].Survival_rate)\n",
    "vehicle_distribution = np.array(df['Python_input_data'].Initial_distribution)\n",
    "print(\"Total number of vehicles\",vehicle_distribution.sum())\n",
    "plt.plot(vintage,vehicle_distribution)\n",
    "plt.xlabel('Years old', size=12)\n",
    "plt.ylabel('Stock of vehicles', size=12)"
   ]
  },
  {
   "cell_type": "code",
   "execution_count": 4,
   "metadata": {},
   "outputs": [],
   "source": [
    "df1 = pd.read_excel(\"Turnover logic spreadsheet.xlsx\",sheet_name = ['AB'])\n",
    "df1.keys()\n",
    "vehicles_per_1000_people = df1['AB'].Vehicles_per_1000_people\n",
    "GDP_per_capita = df1['AB'].GDP_per_capita\n",
    "\n",
    "df2 = pd.read_excel(\"Turnover logic spreadsheet.xlsx\",sheet_name = ['AB_projected'])\n",
    "df2.keys()\n",
    "GDP_per_capita_projected = (df2['AB_projected'].GDP_per_capita)*1000\n",
    "population_projected = (df2['AB_projected'].Population)"
   ]
  },
  {
   "cell_type": "code",
   "execution_count": 5,
   "metadata": {},
   "outputs": [
    {
     "data": {
      "text/plain": [
       "7.204624393199166"
      ]
     },
     "execution_count": 5,
     "metadata": {},
     "output_type": "execute_result"
    }
   ],
   "source": [
    "a_start = 600.0 #Value taken from Sarkar et al  #\n",
    "c_start = 0.0002 # Taken from Singh et al; high-income level elasticity factor\n",
    "\n",
    "m = np.log(pd.to_numeric(vehicles_per_1000_people)/a_start)\n",
    "n=1/(np.exp(-c_start*pd.to_numeric(GDP_per_capita)))\n",
    "b_s =np.average(m*n)\n",
    "b_start = b_s*-1\n",
    "b_start"
   ]
  },
  {
   "cell_type": "code",
   "execution_count": 6,
   "metadata": {},
   "outputs": [],
   "source": [
    "def gompertz(a, b, c, t): \n",
    "    #a= saturation (vehicle/1000 people), b and c = negative parameters, t= GDP per capita\n",
    "    return a*np.exp(-b*np.exp(-c*t))\n",
    "\n",
    "\n",
    "y = gompertz(a_start, b_start, c_start,GDP_per_capita_projected) \n",
    "projected_vehicle_stocks = y*population_projected\n",
    "#projected_vehicle_stocks.round(decimals=0)"
   ]
  },
  {
   "cell_type": "code",
   "execution_count": 7,
   "metadata": {},
   "outputs": [
    {
     "data": {
      "application/vnd.jupyter.widget-view+json": {
       "model_id": "dea65751a66747318812306c0b862e4f",
       "version_major": 2,
       "version_minor": 0
      },
      "text/plain": [
       "interactive(children=(FloatSlider(value=0.0, continuous_update=False, description='EV sales fraction 2030', ma…"
      ]
     },
     "metadata": {},
     "output_type": "display_data"
    }
   ],
   "source": [
    "style={'description_width':'initial'}\n",
    "@widgets.interact(EV_sales_fraction_2030= FloatSlider(min=0, max=1,step=0.1,continuous_update=False, description ='EV sales fraction 2030',style =style), \n",
    "                  EV_sales_fraction_2040=FloatSlider(min=0, max=1,step=0.1,continuous_update=False, description ='EV sales fraction 2040',style=style),\n",
    "                  EV_sales_fraction_2050=FloatSlider(min=0, max=1,step=0.1,continuous_update=False,description ='EV sales fraction 2050', style=style),\n",
    "                  sales_oldest_vintage= IntSlider(min=5, max=10,step=1,continuous_update=False, description ='Oldest Vintage sales (in years)', style=style))\n",
    "\n",
    "def plot(EV_sales_fraction_2030,EV_sales_fraction_2040, EV_sales_fraction_2050, sales_oldest_vintage):\n",
    "    #Define the function that represents the progression of sales of EVs over time; here it is a three-part function\n",
    "    #with three input values for 2030, 2040 and 2050 taken from above (again, ideally with sliders)\n",
    "    sales1 = np.linspace(0,EV_sales_fraction_2030,11)\n",
    "    sales2 = np.linspace(EV_sales_fraction_2030+(EV_sales_fraction_2040-EV_sales_fraction_2030)/10,EV_sales_fraction_2040,10)\n",
    "    sales3 = np.linspace(EV_sales_fraction_2040+(EV_sales_fraction_2050-EV_sales_fraction_2040)/10,EV_sales_fraction_2050,10)\n",
    "    EV_sales_fraction = np.concatenate((sales1,sales2,sales3))\n",
    "    #Define a vector of years for use later\n",
    "    years = np.linspace(2020, 2050, 31).astype(int)\n",
    "    #Initialize the arrays (will be added to by concatenation later)\n",
    "    EV_sales=[0]\n",
    "    ICEV_sales=[5000]\n",
    "    #Define a loop variable to count through the years over which we are interested in running the program.\n",
    "    x = range(len(years)-1)\n",
    "    #Assume that initially all vehicles are ICEVs; initialized the array of EV distribution with zeros\n",
    "    ICEV_distribution = vehicle_distribution\n",
    "    EV_distribution = [0]*len(vehicle_distribution)\n",
    "    EV_total = [0]\n",
    "    ICEV_total = [vehicle_distribution.sum()]\n",
    "    for i in x:\n",
    "        #Use the survival profile to \"scrap\" cars of different vintages with a given probability, both ICEVs and EVs\n",
    "        ICEV_scrap_by_vintage = (ICEV_distribution*(1-survival)).astype(int)\n",
    "        EV_scrap_by_vintage = (EV_distribution*(1-survival)).astype(int)\n",
    "        \n",
    "        #Here's what's left of each vintage after the scrapping is done each year\n",
    "        ICEV_remaining_by_vintage = (ICEV_distribution - ICEV_scrap_by_vintage).astype(int)\n",
    "        EV_remaining_by_vintage = (EV_distribution - EV_scrap_by_vintage).astype(int)\n",
    "        \n",
    "        #Total scrappage distribution by vintage\n",
    "        scrap_by_vintage = ICEV_scrap_by_vintage + EV_scrap_by_vintage\n",
    "       \n",
    "        ##Key assumption to start is that total sales is just equal to total scrappage, thus keeping the total number\n",
    "        #of vehicles constant; can be modified later to allow for growth with the Gompertz function\n",
    "        #vehicle_sales_total = scrap_by_vintage.sum().round(decimals=0) ## 40405 is stock for year 2019\n",
    "        #if i==0:\n",
    "        #    vehicle_sales_total = projected_vehicle_stocks[i].round(decimals=0) - 40405 + scrap_by_vintage.sum()\n",
    "        #else:\n",
    "        vehicle_sales_total = projected_vehicle_stocks[i+1].round(decimals=0) - projected_vehicle_stocks[i].round(decimals=0) + scrap_by_vintage.sum()\n",
    "            \n",
    "            \n",
    "        #Count the total sales for EVs and ICEVs each time through the loop\n",
    "        EV_sales.append(((vehicle_sales_total*EV_sales_fraction[i]).astype(int)).sum())\n",
    "        ICEV_sales.append(((vehicle_sales_total*(1-EV_sales_fraction[i])).astype(int)).sum())\n",
    "        \n",
    "        #Assume a uniform distribution of sales over different vintages; this could be changed, but we don't have\n",
    "        #particularly good reason to know how the vintage distribution of sold vehicles will look\n",
    "        sales_by_vintage = vehicle_sales_total/(sales_oldest_vintage+1)\n",
    "        \n",
    "        #Divide sales between EVs and ICEVs, and by vintage; \n",
    "        #Create an array of sales by vintage for EVs and ICEVsicle_sales_total/(sales_oldest_vintage+1)\n",
    "        EV_sales_by_vintage = (sales_by_vintage*EV_sales_fraction[i]).round(decimals=0)\n",
    "        ICEV_sales_by_vintage = (sales_by_vintage*(1-EV_sales_fraction[i])).round(decimals=0)\n",
    "        EV_sales_vintage_distribution = [EV_sales_by_vintage.round(decimals=0)]*(sales_oldest_vintage+1)+[0]*(len(vehicle_distribution)-(sales_oldest_vintage+1))\n",
    "        ICEV_sales_vintage_distribution = [ICEV_sales_by_vintage.round(decimals=0)]*(sales_oldest_vintage+1)+[0]*(len(vehicle_distribution)-(sales_oldest_vintage+1))\n",
    "        \n",
    "        # Create the new distribution array before going through the loop again\n",
    "        # Now the cars that were 0 years old will be 1 year old, etc.  The zero-year-old cars in the stock for the next \n",
    "        #are that fraction of the sales that were of new cars\n",
    "        EV_distribution = shift(EV_remaining_by_vintage, 1, cval=0) + EV_sales_vintage_distribution\n",
    "        ICEV_distribution = shift(ICEV_remaining_by_vintage, 1, cval=0) + ICEV_sales_vintage_distribution\n",
    "        \n",
    "        #Continue building the array of EV stock and ICEV stock; will be used for plotting as a function of time.\n",
    "        EV_total.append(EV_distribution.sum())\n",
    "        ICEV_total.append(ICEV_distribution.sum())\n",
    "        #print(population_projected[i])\n",
    "      \n",
    "    plt.stackplot(years, [EV_total, ICEV_total])\n",
    "    plt.legend(['EV Stock', 'ICEV Stock'],fontsize='large',bbox_to_anchor=(1.40, 0.9))\n",
    "    plt.xlabel('Year', size=12)\n",
    "    plt.ylabel('Stock of vehicles', size=12)\n",
    "   "
   ]
  },
  {
   "cell_type": "code",
   "execution_count": null,
   "metadata": {},
   "outputs": [],
   "source": []
  }
 ],
 "metadata": {
  "kernelspec": {
   "display_name": "Python 3",
   "language": "python",
   "name": "python3"
  },
  "language_info": {
   "codemirror_mode": {
    "name": "ipython",
    "version": 3
   },
   "file_extension": ".py",
   "mimetype": "text/x-python",
   "name": "python",
   "nbconvert_exporter": "python",
   "pygments_lexer": "ipython3",
   "version": "3.8.3"
  }
 },
 "nbformat": 4,
 "nbformat_minor": 2
}
